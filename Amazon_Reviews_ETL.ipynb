{
  "nbformat": 4,
  "nbformat_minor": 0,
  "metadata": {
    "colab": {
      "name": "Amazon_Reviews_ETL.ipynb",
      "provenance": []
    },
    "kernelspec": {
      "name": "python3",
      "display_name": "Python 3"
    },
    "nteract": {
      "version": "0.12.3"
    }
  },
  "cells": [
    {
      "cell_type": "code",
      "metadata": {
        "id": "V58rxea0HqSa",
        "colab": {
          "base_uri": "https://localhost:8080/"
        },
        "outputId": "4dbaf26e-f10d-47d0-e45c-5be8ce06dcc9"
      },
      "source": [
        "import os\n",
        "# Find the latest version of spark 3.0  from http://www-us.apache.org/dist/spark/ and enter as the spark version\n",
        "# For example:\n",
        "# spark_version = 'spark-3.0.1'\n",
        "spark_version = 'spark-3.0.2'\n",
        "os.environ['SPARK_VERSION']=spark_version\n",
        "\n",
        "# Install Spark and Java\n",
        "!apt-get update\n",
        "!apt-get install openjdk-11-jdk-headless -qq > /dev/null\n",
        "!wget -q http://www-us.apache.org/dist/spark/$SPARK_VERSION/$SPARK_VERSION-bin-hadoop2.7.tgz\n",
        "!tar xf $SPARK_VERSION-bin-hadoop2.7.tgz\n",
        "!pip install -q findspark\n",
        "\n",
        "# Set Environment Variables\n",
        "import os\n",
        "os.environ[\"JAVA_HOME\"] = \"/usr/lib/jvm/java-11-openjdk-amd64\"\n",
        "os.environ[\"SPARK_HOME\"] = f\"/content/{spark_version}-bin-hadoop2.7\"\n",
        "\n",
        "# Start a SparkSession\n",
        "import findspark\n",
        "findspark.init()"
      ],
      "execution_count": null,
      "outputs": [
        {
          "output_type": "stream",
          "text": [
            "\r0% [Working]\r            \rGet:1 http://security.ubuntu.com/ubuntu bionic-security InRelease [88.7 kB]\n",
            "\r0% [Connecting to archive.ubuntu.com (91.189.88.152)] [1 InRelease 14.2 kB/88.7\r                                                                               \rIgn:2 https://developer.download.nvidia.com/compute/cuda/repos/ubuntu1804/x86_64  InRelease\n",
            "\r0% [Connecting to archive.ubuntu.com (91.189.88.152)] [1 InRelease 83.7 kB/88.7\r0% [Connecting to archive.ubuntu.com (91.189.88.152)] [Connected to cloud.r-pro\r0% [1 InRelease gpgv 88.7 kB] [Waiting for headers] [Waiting for headers] [Wait\r                                                                               \rHit:3 https://cloud.r-project.org/bin/linux/ubuntu bionic-cran40/ InRelease\n",
            "\r0% [1 InRelease gpgv 88.7 kB] [Waiting for headers] [Waiting for headers] [Wait\r                                                                               \rIgn:4 https://developer.download.nvidia.com/compute/machine-learning/repos/ubuntu1804/x86_64  InRelease\n",
            "Hit:5 http://ppa.launchpad.net/c2d4u.team/c2d4u4.0+/ubuntu bionic InRelease\n",
            "Hit:6 https://developer.download.nvidia.com/compute/cuda/repos/ubuntu1804/x86_64  Release\n",
            "Hit:7 https://developer.download.nvidia.com/compute/machine-learning/repos/ubuntu1804/x86_64  Release\n",
            "Hit:8 http://archive.ubuntu.com/ubuntu bionic InRelease\n",
            "Get:9 http://archive.ubuntu.com/ubuntu bionic-updates InRelease [88.7 kB]\n",
            "Hit:10 http://ppa.launchpad.net/cran/libgit2/ubuntu bionic InRelease\n",
            "Hit:11 http://ppa.launchpad.net/graphics-drivers/ppa/ubuntu bionic InRelease\n",
            "Get:12 http://archive.ubuntu.com/ubuntu bionic-backports InRelease [74.6 kB]\n",
            "Fetched 252 kB in 2s (107 kB/s)\n",
            "Reading package lists... Done\n"
          ],
          "name": "stdout"
        }
      ]
    },
    {
      "cell_type": "code",
      "metadata": {
        "id": "_xKwTpATHqSe",
        "colab": {
          "base_uri": "https://localhost:8080/"
        },
        "outputId": "7aeefe95-c6bc-4f49-855c-9c8090e67356"
      },
      "source": [
        "# Download the Postgres driver that will allow Spark to interact with Postgres.\n",
        "!wget https://jdbc.postgresql.org/download/postgresql-42.2.16.jar"
      ],
      "execution_count": null,
      "outputs": [
        {
          "output_type": "stream",
          "text": [
            "--2021-02-19 23:13:45--  https://jdbc.postgresql.org/download/postgresql-42.2.16.jar\n",
            "Resolving jdbc.postgresql.org (jdbc.postgresql.org)... 72.32.157.228, 2001:4800:3e1:1::228\n",
            "Connecting to jdbc.postgresql.org (jdbc.postgresql.org)|72.32.157.228|:443... connected.\n",
            "HTTP request sent, awaiting response... 200 OK\n",
            "Length: 1002883 (979K) [application/java-archive]\n",
            "Saving to: ‘postgresql-42.2.16.jar’\n",
            "\n",
            "postgresql-42.2.16. 100%[===================>] 979.38K  --.-KB/s    in 0.1s    \n",
            "\n",
            "2021-02-19 23:13:45 (6.56 MB/s) - ‘postgresql-42.2.16.jar’ saved [1002883/1002883]\n",
            "\n"
          ],
          "name": "stdout"
        }
      ]
    },
    {
      "cell_type": "code",
      "metadata": {
        "id": "MMqDAjVS0KN9"
      },
      "source": [
        "from pyspark.sql import SparkSession\n",
        "spark = SparkSession.builder.appName(\"BigData-Challenge\").config(\"spark.driver.extraClassPath\",\"/content/postgresql-42.2.16.jar\").getOrCreate()"
      ],
      "execution_count": null,
      "outputs": []
    },
    {
      "cell_type": "markdown",
      "metadata": {
        "id": "cyBsySGuY-9V"
      },
      "source": [
        "### Load Amazon Data into Spark DataFrame"
      ]
    },
    {
      "cell_type": "code",
      "metadata": {
        "id": "CtCmBhQJY-9Z",
        "colab": {
          "base_uri": "https://localhost:8080/"
        },
        "outputId": "5191b815-6e36-42d8-e021-0689a5e0ac29"
      },
      "source": [
        "from pyspark import SparkFiles\n",
        "url = \"https://smjdata-challenge.s3.us-east-2.amazonaws.com/amazon_reviews_us_Beauty_v1_00.tsv.gz\"\n",
        "spark.sparkContext.addFile(url)\n",
        "df = spark.read.option(\"encoding\", \"UTF-8\").csv(SparkFiles.get(\"\"), sep=\"\\t\", header=True, inferSchema=True)\n",
        "df.show()"
      ],
      "execution_count": null,
      "outputs": [
        {
          "output_type": "stream",
          "text": [
            "+-----------+-----------+--------------+----------+--------------+--------------------+----------------+-----------+-------------+-----------+----+-----------------+--------------------+---------------------+-----------+\n",
            "|marketplace|customer_id|     review_id|product_id|product_parent|       product_title|product_category|star_rating|helpful_votes|total_votes|vine|verified_purchase|     review_headline|          review_body|review_date|\n",
            "+-----------+-----------+--------------+----------+--------------+--------------------+----------------+-----------+-------------+-----------+----+-----------------+--------------------+---------------------+-----------+\n",
            "|         US|    1797882|R3I2DHQBR577SS|B001ANOOOE|       2102612|The Naked Bee Vit...|          Beauty|          5|            0|          0|   N|                Y|          Five Stars| Love this, excell...| 2015-08-31|\n",
            "|         US|   18381298|R1QNE9NQFJC2Y4|B0016J22EQ|     106393691|Alba Botanica Sun...|          Beauty|          5|            0|          0|   N|                Y|Thank you Alba Bo...| The great thing a...| 2015-08-31|\n",
            "|         US|   19242472|R3LIDG2Q4LJBAO|B00HU6UQAG|     375449471|Elysee Infusion S...|          Beauty|          5|            0|          0|   N|                Y|          Five Stars| Great Product, I'...| 2015-08-31|\n",
            "|         US|   19551372|R3KSZHPAEVPEAL|B002HWS7RM|     255651889|Diane D722 Color,...|          Beauty|          5|            0|          0|   N|                Y|          GOOD DEAL!| I use them as sho...| 2015-08-31|\n",
            "|         US|   14802407| RAI2OIG50KZ43|B00SM99KWU|     116158747|Biore UV Aqua Ric...|          Beauty|          5|            0|          0|   N|                Y|this soaks in qui...| This is my go-to ...| 2015-08-31|\n",
            "|         US|    2909389|R1R30FA4RB5P54|B000NYL1Z6|     166146615|Murad Clarifying ...|          Beauty|          4|            0|          0|   N|                Y|          Four Stars|                 Good| 2015-08-31|\n",
            "|         US|   19397215|R30IJKCGJBGPJH|B001SYWTFG|     111742328|CoverGirl Queen C...|          Beauty|          5|            0|          0|   N|                Y|            Good buy| Great eyeliner, d...| 2015-08-31|\n",
            "|         US|    3195210|R18GLJJPVQ1OVH|B005F2EVMQ|     255803087|Bifesta Mandom Ey...|          Beauty|          5|            0|          0|   N|                Y|          Five Stars|Best makeup remover！| 2015-08-31|\n",
            "|         US|   52216383| R8TVYIJXLYJT0|B00M1SUW7K|     246816549|Can You Handlebar...|          Beauty|          5|            0|          0|   N|                Y|Tame the wild mus...| This is a great p...| 2015-08-31|\n",
            "|         US|   10278216|R1CJGF6M3PVHEZ|B001KYQA1S|       9612905|Maybelline Great ...|          Beauty|          1|            0|          2|   N|                Y|but it's like hav...| I thought it woul...| 2015-08-31|\n",
            "|         US|   24655453|R2A30ALEGLMCGN|B00SAQ9DZY|     292127037|12 New, High Qual...|          Beauty|          4|            1|          1|   N|                Y|        Good Product| These are great f...| 2015-08-31|\n",
            "|         US|   30788223|R134GP1Y3EQZ1L|B00HFQQ0VU|     311309827|Waterpik Aquarius...|          Beauty|          5|            0|          0|   N|                Y| Optimum Oral Health| Just got this.  N...| 2015-08-31|\n",
            "|         US|   11257536| R6CE3SOIUJGP4|B00PYL8MAA|     390030149|Proganix Agave Ne...|          Beauty|          4|            1|          1|   N|                N|   Love this cream !| Wish I had discov...| 2015-08-31|\n",
            "|         US|   29605778|R37CDLQZUPDZVM|B00D9NV2D4|     794858888|         Shea Butter|          Beauty|          5|            0|          0|   N|                Y|It works so much ...| I bought this to ...| 2015-08-31|\n",
            "|         US|   41238422|R1KH9XCK6GYT26|B008Y9M412|     874223919|Etude House Fresh...|          Beauty|          5|            0|          0|   N|                Y|          Five Stars| The tint is aweso...| 2015-08-31|\n",
            "|         US|   23620123|R3I4BQ6654MQNA|B00FWXBLHG|     464001209|Vintage Lil' Spon...|          Beauty|          5|            1|          1|   N|                Y|Great product, fa...| I'm in love with ...| 2015-08-31|\n",
            "|         US|   25564245|R3LUPG356F1D40|B003KL8CB0|     328680790|Jenna Jameson Hea...|          Beauty|          5|            3|          3|   N|                N|Does not smell ch...| I was given this ...| 2015-08-31|\n",
            "|         US|     801375|R3HNVRTHL9S2ZB|B006R2LNV0|     620737389|Korean Cosmetics_...|          Beauty|          5|            0|          0|   N|                N|          Five Stars| Magical everybody...| 2015-08-31|\n",
            "|         US|    9478730| R5HKL5RD4IUT8|B00SMIIR0W|     351973146|Schick Hydro Silk...|          Beauty|          5|            0|          0|   N|                Y|Love this Razor/T...| Works fantastic! ...| 2015-08-31|\n",
            "|         US|   18418407|R37Z8NBTHPR853|B003UKKH6O|      10034795|Oral-B Vitality P...|          Beauty|          5|            0|          0|   N|                Y|          Five Stars| excellent battery...| 2015-08-31|\n",
            "+-----------+-----------+--------------+----------+--------------+--------------------+----------------+-----------+-------------+-----------+----+-----------------+--------------------+---------------------+-----------+\n",
            "only showing top 20 rows\n",
            "\n"
          ],
          "name": "stdout"
        }
      ]
    },
    {
      "cell_type": "markdown",
      "metadata": {
        "id": "2yUSe55VY-9t"
      },
      "source": [
        "### Create DataFrames to match tables"
      ]
    },
    {
      "cell_type": "code",
      "metadata": {
        "id": "C8REmY1aY-9u",
        "colab": {
          "base_uri": "https://localhost:8080/"
        },
        "outputId": "e7008f3c-a9cd-401f-c1b3-c170dc80e003"
      },
      "source": [
        "from pyspark.sql.functions import to_date\n",
        "# Read in the Review dataset as a DataFrame\n",
        "df.printSchema()\n",
        "df.show()"
      ],
      "execution_count": null,
      "outputs": [
        {
          "output_type": "stream",
          "text": [
            "root\n",
            " |-- marketplace: string (nullable = true)\n",
            " |-- customer_id: integer (nullable = true)\n",
            " |-- review_id: string (nullable = true)\n",
            " |-- product_id: string (nullable = true)\n",
            " |-- product_parent: integer (nullable = true)\n",
            " |-- product_title: string (nullable = true)\n",
            " |-- product_category: string (nullable = true)\n",
            " |-- star_rating: string (nullable = true)\n",
            " |-- helpful_votes: integer (nullable = true)\n",
            " |-- total_votes: integer (nullable = true)\n",
            " |-- vine: string (nullable = true)\n",
            " |-- verified_purchase: string (nullable = true)\n",
            " |-- review_headline: string (nullable = true)\n",
            " |-- review_body: string (nullable = true)\n",
            " |-- review_date: string (nullable = true)\n",
            "\n"
          ],
          "name": "stdout"
        }
      ]
    },
    {
      "cell_type": "code",
      "metadata": {
        "id": "B0TESUDRY-90",
        "colab": {
          "base_uri": "https://localhost:8080/"
        },
        "outputId": "913de98a-6b46-41a4-cc03-dad091a42b57"
      },
      "source": [
        "# Create the customers_table DataFrame\n",
        "customers_df = df.groupby(\"customer_id\").agg({\"customer_id\":\"count\"}).withColumnRenamed(\"count(customer_id)\", \"customer_count\")\n",
        "\n",
        "customers_df.show()"
      ],
      "execution_count": null,
      "outputs": [
        {
          "output_type": "stream",
          "text": [
            "+-----------+--------------+\n",
            "|customer_id|customer_count|\n",
            "+-----------+--------------+\n",
            "|    9015608|             3|\n",
            "|    9767880|             2|\n",
            "|   15958313|             1|\n",
            "|   12879980|            20|\n",
            "|   43920023|            31|\n",
            "|     106535|             1|\n",
            "|   20328662|             1|\n",
            "|   12819130|             4|\n",
            "|   50145309|             1|\n",
            "|   15159322|             2|\n",
            "|   16747249|             2|\n",
            "|   37678162|             1|\n",
            "|     227763|             1|\n",
            "|   15191144|             2|\n",
            "|   31946913|             1|\n",
            "|   44295916|             1|\n",
            "|   19021463|             1|\n",
            "|     806337|             2|\n",
            "|   16306618|            18|\n",
            "|     393186|             1|\n",
            "+-----------+--------------+\n",
            "only showing top 20 rows\n",
            "\n"
          ],
          "name": "stdout"
        }
      ]
    },
    {
      "cell_type": "code",
      "metadata": {
        "id": "4FwXA6UvY-96",
        "colab": {
          "base_uri": "https://localhost:8080/"
        },
        "outputId": "64c455d0-a9f4-49d2-9b75-172f149c16e6"
      },
      "source": [
        "# Create the products_table DataFrame and drop duplicates. \n",
        "products_df = df.select([\"product_id\", \"product_title\"]).drop_duplicates([\"product_id\"])\n",
        "products_df.show()"
      ],
      "execution_count": null,
      "outputs": [
        {
          "output_type": "stream",
          "text": [
            "+----------+--------------------+\n",
            "|product_id|       product_title|\n",
            "+----------+--------------------+\n",
            "|1935682016|Henna Art, Tools ...|\n",
            "|9788077757|Overnight Success...|\n",
            "|9790770367|Dolce & Gabbana C...|\n",
            "|9790773587|Calvin Klein Euph...|\n",
            "|9790796927|Herve Leger Perfu...|\n",
            "|9790800886|Trouble By Bouche...|\n",
            "|9865962039|Women Perfume Oil...|\n",
            "|B000050B6Q|Conair 077B 1875-...|\n",
            "|B000052YQV|Pond's Overnight ...|\n",
            "|B000052ZBD|Neutrogena Rainba...|\n",
            "|B000052ZEO|Wet 'n' Wild Crem...|\n",
            "|B0000532VT|Neutrogena Clean ...|\n",
            "|B00005CDRS|Sunbeam SBCL870 1...|\n",
            "|B00005NAPK|Cover Girl Outlas...|\n",
            "|B00006ANDK|Oral-B Sensitive ...|\n",
            "|B000089SAM|AXE Deodorant Bod...|\n",
            "|B00008BFTP|Philips HQ481 Tra...|\n",
            "|B00008KA86|Revlon ColorStay ...|\n",
            "|B0000A4EW2|Aveeno Moisture L...|\n",
            "|B0000AKT6Q|Therapist Select ...|\n",
            "+----------+--------------------+\n",
            "only showing top 20 rows\n",
            "\n"
          ],
          "name": "stdout"
        }
      ]
    },
    {
      "cell_type": "code",
      "metadata": {
        "id": "MkqyCuNQY-9-",
        "colab": {
          "base_uri": "https://localhost:8080/"
        },
        "outputId": "1eeaf6e8-b81a-41a9-a2ee-32c5a7de9a06"
      },
      "source": [
        "# Create the review_id_table DataFrame. \n",
        "# Convert the 'review_date' column to a date datatype with to_date(\"review_date\", 'yyyy-MM-dd').alias(\"review_date\")\n",
        "review_id_df = df.select([\"review_id\", \"customer_id\", \"product_id\", \"product_parent\", to_date(\"review_date\", 'yyyy-MM-dd').alias(\"review_date\")])\n",
        "\n",
        "review_id_df.show()"
      ],
      "execution_count": null,
      "outputs": [
        {
          "output_type": "stream",
          "text": [
            "+--------------+-----------+----------+--------------+-----------+\n",
            "|     review_id|customer_id|product_id|product_parent|review_date|\n",
            "+--------------+-----------+----------+--------------+-----------+\n",
            "|R3I2DHQBR577SS|    1797882|B001ANOOOE|       2102612| 2015-08-31|\n",
            "|R1QNE9NQFJC2Y4|   18381298|B0016J22EQ|     106393691| 2015-08-31|\n",
            "|R3LIDG2Q4LJBAO|   19242472|B00HU6UQAG|     375449471| 2015-08-31|\n",
            "|R3KSZHPAEVPEAL|   19551372|B002HWS7RM|     255651889| 2015-08-31|\n",
            "| RAI2OIG50KZ43|   14802407|B00SM99KWU|     116158747| 2015-08-31|\n",
            "|R1R30FA4RB5P54|    2909389|B000NYL1Z6|     166146615| 2015-08-31|\n",
            "|R30IJKCGJBGPJH|   19397215|B001SYWTFG|     111742328| 2015-08-31|\n",
            "|R18GLJJPVQ1OVH|    3195210|B005F2EVMQ|     255803087| 2015-08-31|\n",
            "| R8TVYIJXLYJT0|   52216383|B00M1SUW7K|     246816549| 2015-08-31|\n",
            "|R1CJGF6M3PVHEZ|   10278216|B001KYQA1S|       9612905| 2015-08-31|\n",
            "|R2A30ALEGLMCGN|   24655453|B00SAQ9DZY|     292127037| 2015-08-31|\n",
            "|R134GP1Y3EQZ1L|   30788223|B00HFQQ0VU|     311309827| 2015-08-31|\n",
            "| R6CE3SOIUJGP4|   11257536|B00PYL8MAA|     390030149| 2015-08-31|\n",
            "|R37CDLQZUPDZVM|   29605778|B00D9NV2D4|     794858888| 2015-08-31|\n",
            "|R1KH9XCK6GYT26|   41238422|B008Y9M412|     874223919| 2015-08-31|\n",
            "|R3I4BQ6654MQNA|   23620123|B00FWXBLHG|     464001209| 2015-08-31|\n",
            "|R3LUPG356F1D40|   25564245|B003KL8CB0|     328680790| 2015-08-31|\n",
            "|R3HNVRTHL9S2ZB|     801375|B006R2LNV0|     620737389| 2015-08-31|\n",
            "| R5HKL5RD4IUT8|    9478730|B00SMIIR0W|     351973146| 2015-08-31|\n",
            "|R37Z8NBTHPR853|   18418407|B003UKKH6O|      10034795| 2015-08-31|\n",
            "+--------------+-----------+----------+--------------+-----------+\n",
            "only showing top 20 rows\n",
            "\n"
          ],
          "name": "stdout"
        }
      ]
    },
    {
      "cell_type": "code",
      "metadata": {
        "id": "lzMmkdKmY--D",
        "colab": {
          "base_uri": "https://localhost:8080/"
        },
        "outputId": "b8f9c3d6-65ec-4022-8401-9d124b200200"
      },
      "source": [
        "# Create the vine_table. DataFrame\n",
        "#.select([\"review_id\", \"helpful_votes\", \"total_votes\", \"vine\", \"verified_purchase\"])\n",
        "from pyspark.sql.types import IntegerType\n",
        "new_df = df.withColumn(\"star_rating\", df[\"star_rating\"].cast(IntegerType()))\n",
        "new_df.show()"
      ],
      "execution_count": null,
      "outputs": [
        {
          "output_type": "stream",
          "text": [
            "+-----------+-----------+--------------+----------+--------------+--------------------+----------------+-----------+-------------+-----------+----+-----------------+--------------------+---------------------+-----------+\n",
            "|marketplace|customer_id|     review_id|product_id|product_parent|       product_title|product_category|star_rating|helpful_votes|total_votes|vine|verified_purchase|     review_headline|          review_body|review_date|\n",
            "+-----------+-----------+--------------+----------+--------------+--------------------+----------------+-----------+-------------+-----------+----+-----------------+--------------------+---------------------+-----------+\n",
            "|         US|    1797882|R3I2DHQBR577SS|B001ANOOOE|       2102612|The Naked Bee Vit...|          Beauty|          5|            0|          0|   N|                Y|          Five Stars| Love this, excell...| 2015-08-31|\n",
            "|         US|   18381298|R1QNE9NQFJC2Y4|B0016J22EQ|     106393691|Alba Botanica Sun...|          Beauty|          5|            0|          0|   N|                Y|Thank you Alba Bo...| The great thing a...| 2015-08-31|\n",
            "|         US|   19242472|R3LIDG2Q4LJBAO|B00HU6UQAG|     375449471|Elysee Infusion S...|          Beauty|          5|            0|          0|   N|                Y|          Five Stars| Great Product, I'...| 2015-08-31|\n",
            "|         US|   19551372|R3KSZHPAEVPEAL|B002HWS7RM|     255651889|Diane D722 Color,...|          Beauty|          5|            0|          0|   N|                Y|          GOOD DEAL!| I use them as sho...| 2015-08-31|\n",
            "|         US|   14802407| RAI2OIG50KZ43|B00SM99KWU|     116158747|Biore UV Aqua Ric...|          Beauty|          5|            0|          0|   N|                Y|this soaks in qui...| This is my go-to ...| 2015-08-31|\n",
            "|         US|    2909389|R1R30FA4RB5P54|B000NYL1Z6|     166146615|Murad Clarifying ...|          Beauty|          4|            0|          0|   N|                Y|          Four Stars|                 Good| 2015-08-31|\n",
            "|         US|   19397215|R30IJKCGJBGPJH|B001SYWTFG|     111742328|CoverGirl Queen C...|          Beauty|          5|            0|          0|   N|                Y|            Good buy| Great eyeliner, d...| 2015-08-31|\n",
            "|         US|    3195210|R18GLJJPVQ1OVH|B005F2EVMQ|     255803087|Bifesta Mandom Ey...|          Beauty|          5|            0|          0|   N|                Y|          Five Stars|Best makeup remover！| 2015-08-31|\n",
            "|         US|   52216383| R8TVYIJXLYJT0|B00M1SUW7K|     246816549|Can You Handlebar...|          Beauty|          5|            0|          0|   N|                Y|Tame the wild mus...| This is a great p...| 2015-08-31|\n",
            "|         US|   10278216|R1CJGF6M3PVHEZ|B001KYQA1S|       9612905|Maybelline Great ...|          Beauty|          1|            0|          2|   N|                Y|but it's like hav...| I thought it woul...| 2015-08-31|\n",
            "|         US|   24655453|R2A30ALEGLMCGN|B00SAQ9DZY|     292127037|12 New, High Qual...|          Beauty|          4|            1|          1|   N|                Y|        Good Product| These are great f...| 2015-08-31|\n",
            "|         US|   30788223|R134GP1Y3EQZ1L|B00HFQQ0VU|     311309827|Waterpik Aquarius...|          Beauty|          5|            0|          0|   N|                Y| Optimum Oral Health| Just got this.  N...| 2015-08-31|\n",
            "|         US|   11257536| R6CE3SOIUJGP4|B00PYL8MAA|     390030149|Proganix Agave Ne...|          Beauty|          4|            1|          1|   N|                N|   Love this cream !| Wish I had discov...| 2015-08-31|\n",
            "|         US|   29605778|R37CDLQZUPDZVM|B00D9NV2D4|     794858888|         Shea Butter|          Beauty|          5|            0|          0|   N|                Y|It works so much ...| I bought this to ...| 2015-08-31|\n",
            "|         US|   41238422|R1KH9XCK6GYT26|B008Y9M412|     874223919|Etude House Fresh...|          Beauty|          5|            0|          0|   N|                Y|          Five Stars| The tint is aweso...| 2015-08-31|\n",
            "|         US|   23620123|R3I4BQ6654MQNA|B00FWXBLHG|     464001209|Vintage Lil' Spon...|          Beauty|          5|            1|          1|   N|                Y|Great product, fa...| I'm in love with ...| 2015-08-31|\n",
            "|         US|   25564245|R3LUPG356F1D40|B003KL8CB0|     328680790|Jenna Jameson Hea...|          Beauty|          5|            3|          3|   N|                N|Does not smell ch...| I was given this ...| 2015-08-31|\n",
            "|         US|     801375|R3HNVRTHL9S2ZB|B006R2LNV0|     620737389|Korean Cosmetics_...|          Beauty|          5|            0|          0|   N|                N|          Five Stars| Magical everybody...| 2015-08-31|\n",
            "|         US|    9478730| R5HKL5RD4IUT8|B00SMIIR0W|     351973146|Schick Hydro Silk...|          Beauty|          5|            0|          0|   N|                Y|Love this Razor/T...| Works fantastic! ...| 2015-08-31|\n",
            "|         US|   18418407|R37Z8NBTHPR853|B003UKKH6O|      10034795|Oral-B Vitality P...|          Beauty|          5|            0|          0|   N|                Y|          Five Stars| excellent battery...| 2015-08-31|\n",
            "+-----------+-----------+--------------+----------+--------------+--------------------+----------------+-----------+-------------+-----------+----+-----------------+--------------------+---------------------+-----------+\n",
            "only showing top 20 rows\n",
            "\n"
          ],
          "name": "stdout"
        }
      ]
    },
    {
      "cell_type": "code",
      "metadata": {
        "colab": {
          "base_uri": "https://localhost:8080/"
        },
        "id": "B9u0_HKsFWdQ",
        "outputId": "b26784e0-065d-4e44-c51c-3026b440e125"
      },
      "source": [
        "vine_df = new_df.select([\"review_id\", \"star_rating\", \"helpful_votes\", \"total_votes\", \"vine\", \"verified_purchase\"])\n",
        "vine_df.show()"
      ],
      "execution_count": null,
      "outputs": [
        {
          "output_type": "stream",
          "text": [
            "+--------------+-----------+-------------+-----------+----+-----------------+\n",
            "|     review_id|star_rating|helpful_votes|total_votes|vine|verified_purchase|\n",
            "+--------------+-----------+-------------+-----------+----+-----------------+\n",
            "|R3I2DHQBR577SS|          5|            0|          0|   N|                Y|\n",
            "|R1QNE9NQFJC2Y4|          5|            0|          0|   N|                Y|\n",
            "|R3LIDG2Q4LJBAO|          5|            0|          0|   N|                Y|\n",
            "|R3KSZHPAEVPEAL|          5|            0|          0|   N|                Y|\n",
            "| RAI2OIG50KZ43|          5|            0|          0|   N|                Y|\n",
            "|R1R30FA4RB5P54|          4|            0|          0|   N|                Y|\n",
            "|R30IJKCGJBGPJH|          5|            0|          0|   N|                Y|\n",
            "|R18GLJJPVQ1OVH|          5|            0|          0|   N|                Y|\n",
            "| R8TVYIJXLYJT0|          5|            0|          0|   N|                Y|\n",
            "|R1CJGF6M3PVHEZ|          1|            0|          2|   N|                Y|\n",
            "|R2A30ALEGLMCGN|          4|            1|          1|   N|                Y|\n",
            "|R134GP1Y3EQZ1L|          5|            0|          0|   N|                Y|\n",
            "| R6CE3SOIUJGP4|          4|            1|          1|   N|                N|\n",
            "|R37CDLQZUPDZVM|          5|            0|          0|   N|                Y|\n",
            "|R1KH9XCK6GYT26|          5|            0|          0|   N|                Y|\n",
            "|R3I4BQ6654MQNA|          5|            1|          1|   N|                Y|\n",
            "|R3LUPG356F1D40|          5|            3|          3|   N|                N|\n",
            "|R3HNVRTHL9S2ZB|          5|            0|          0|   N|                N|\n",
            "| R5HKL5RD4IUT8|          5|            0|          0|   N|                Y|\n",
            "|R37Z8NBTHPR853|          5|            0|          0|   N|                Y|\n",
            "+--------------+-----------+-------------+-----------+----+-----------------+\n",
            "only showing top 20 rows\n",
            "\n"
          ],
          "name": "stdout"
        }
      ]
    },
    {
      "cell_type": "markdown",
      "metadata": {
        "id": "jITZhLkmY--J"
      },
      "source": [
        "### Connect to the AWS RDS instance and write each DataFrame to its table. "
      ]
    },
    {
      "cell_type": "code",
      "metadata": {
        "id": "7jiUvs1aY--L"
      },
      "source": [
        "# Configure settings for RDS\n",
        "from config import himal123\n",
        "mode = \"append\"\n",
        "jdbc_url=\"jdbc:postgresql://challenge.cl6ig7iqyz2q.us-east-2.rds.amazonaws.com:5432/Challenge\"\n",
        "config = {\"user\": \"postgres\", \n",
        "          \"password\": himal123, \n",
        "          \"driver\":\"org.postgresql.Driver\"}"
      ],
      "execution_count": null,
      "outputs": []
    },
    {
      "cell_type": "code",
      "metadata": {
        "id": "T2zgZ-aKY--Q"
      },
      "source": [
        "# Write review_id_df to table in RDS\n",
        "review_id_df.write.jdbc(url=jdbc_url, table='review_id_table', mode=mode, properties=config)"
      ],
      "execution_count": null,
      "outputs": []
    },
    {
      "cell_type": "code",
      "metadata": {
        "id": "1m3yzn-LY--U"
      },
      "source": [
        "# Write products_df to table in RDS\n",
        "# about 3 min\n",
        "products_df.write.jdbc(url=jdbc_url, table='products_table', mode=mode, properties=config)"
      ],
      "execution_count": null,
      "outputs": []
    },
    {
      "cell_type": "code",
      "metadata": {
        "id": "KbXri15fY--Z"
      },
      "source": [
        "# Write customers_df to table in RDS\n",
        "# 5 min 14 s\n",
        "customers_df.write.jdbc(url=jdbc_url, table='customers_table', mode=mode, properties=config)"
      ],
      "execution_count": null,
      "outputs": []
    },
    {
      "cell_type": "code",
      "metadata": {
        "id": "XdQknSHLY--e"
      },
      "source": [
        "# Write vine_df to table in RDS\n",
        "# 11 minutes\n",
        "vine_df.write.jdbc(url=jdbc_url, table='vine_table', mode=mode, properties=config)"
      ],
      "execution_count": null,
      "outputs": []
    },
    {
      "cell_type": "code",
      "metadata": {
        "id": "Exuo6ebUsCqW"
      },
      "source": [
        ""
      ],
      "execution_count": null,
      "outputs": []
    }
  ]
}